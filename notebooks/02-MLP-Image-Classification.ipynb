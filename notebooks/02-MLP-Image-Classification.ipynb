{
  "nbformat": 4,
  "nbformat_minor": 0,
  "metadata": {
    "kernelspec": {
      "display_name": "Python 3",
      "language": "python",
      "name": "python3"
    },
    "language_info": {
      "codemirror_mode": {
        "name": "ipython",
        "version": 3
      },
      "file_extension": ".py",
      "mimetype": "text/x-python",
      "name": "python",
      "nbconvert_exporter": "python",
      "pygments_lexer": "ipython3",
      "version": "3.7.6"
    },
    "colab": {
      "name": "02-MLP-Image-Classification.ipynb",
      "provenance": [],
      "toc_visible": true,
      "include_colab_link": true
    },
    "accelerator": "GPU",
    "widgets": {
      "application/vnd.jupyter.widget-state+json": {
        "2fa266641db74d9da9f2b4580d5b514c": {
          "model_module": "@jupyter-widgets/controls",
          "model_name": "HBoxModel",
          "state": {
            "_view_name": "HBoxView",
            "_dom_classes": [],
            "_model_name": "HBoxModel",
            "_view_module": "@jupyter-widgets/controls",
            "_model_module_version": "1.5.0",
            "_view_count": null,
            "_view_module_version": "1.5.0",
            "box_style": "",
            "layout": "IPY_MODEL_8fb0490fdbf048beb3c05eefde179b8d",
            "_model_module": "@jupyter-widgets/controls",
            "children": [
              "IPY_MODEL_9472758c25ae4cbc9254377c59422e59",
              "IPY_MODEL_2f5bb0d836544a5db265d836c6ac1925"
            ]
          }
        },
        "8fb0490fdbf048beb3c05eefde179b8d": {
          "model_module": "@jupyter-widgets/base",
          "model_name": "LayoutModel",
          "state": {
            "_view_name": "LayoutView",
            "grid_template_rows": null,
            "right": null,
            "justify_content": null,
            "_view_module": "@jupyter-widgets/base",
            "overflow": null,
            "_model_module_version": "1.2.0",
            "_view_count": null,
            "flex_flow": null,
            "width": null,
            "min_width": null,
            "border": null,
            "align_items": null,
            "bottom": null,
            "_model_module": "@jupyter-widgets/base",
            "top": null,
            "grid_column": null,
            "overflow_y": null,
            "overflow_x": null,
            "grid_auto_flow": null,
            "grid_area": null,
            "grid_template_columns": null,
            "flex": null,
            "_model_name": "LayoutModel",
            "justify_items": null,
            "grid_row": null,
            "max_height": null,
            "align_content": null,
            "visibility": null,
            "align_self": null,
            "height": null,
            "min_height": null,
            "padding": null,
            "grid_auto_rows": null,
            "grid_gap": null,
            "max_width": null,
            "order": null,
            "_view_module_version": "1.2.0",
            "grid_template_areas": null,
            "object_position": null,
            "object_fit": null,
            "grid_auto_columns": null,
            "margin": null,
            "display": null,
            "left": null
          }
        },
        "9472758c25ae4cbc9254377c59422e59": {
          "model_module": "@jupyter-widgets/controls",
          "model_name": "FloatProgressModel",
          "state": {
            "_view_name": "ProgressView",
            "style": "IPY_MODEL_d3b548cc718d405e9d8e99540be036fe",
            "_dom_classes": [],
            "description": "",
            "_model_name": "FloatProgressModel",
            "bar_style": "info",
            "max": 1,
            "_view_module": "@jupyter-widgets/controls",
            "_model_module_version": "1.5.0",
            "value": 1,
            "_view_count": null,
            "_view_module_version": "1.5.0",
            "orientation": "horizontal",
            "min": 0,
            "description_tooltip": null,
            "_model_module": "@jupyter-widgets/controls",
            "layout": "IPY_MODEL_6286b05fdcde494ba458389b8024af23"
          }
        },
        "2f5bb0d836544a5db265d836c6ac1925": {
          "model_module": "@jupyter-widgets/controls",
          "model_name": "HTMLModel",
          "state": {
            "_view_name": "HTMLView",
            "style": "IPY_MODEL_fffc3420b05c4cc9858e34e496381f38",
            "_dom_classes": [],
            "description": "",
            "_model_name": "HTMLModel",
            "placeholder": "​",
            "_view_module": "@jupyter-widgets/controls",
            "_model_module_version": "1.5.0",
            "value": " 9920512/? [00:20&lt;00:00, 2930272.65it/s]",
            "_view_count": null,
            "_view_module_version": "1.5.0",
            "description_tooltip": null,
            "_model_module": "@jupyter-widgets/controls",
            "layout": "IPY_MODEL_f1e5d7f1eefe4732a1e51142b6d23c3c"
          }
        },
        "d3b548cc718d405e9d8e99540be036fe": {
          "model_module": "@jupyter-widgets/controls",
          "model_name": "ProgressStyleModel",
          "state": {
            "_view_name": "StyleView",
            "_model_name": "ProgressStyleModel",
            "description_width": "initial",
            "_view_module": "@jupyter-widgets/base",
            "_model_module_version": "1.5.0",
            "_view_count": null,
            "_view_module_version": "1.2.0",
            "bar_color": null,
            "_model_module": "@jupyter-widgets/controls"
          }
        },
        "6286b05fdcde494ba458389b8024af23": {
          "model_module": "@jupyter-widgets/base",
          "model_name": "LayoutModel",
          "state": {
            "_view_name": "LayoutView",
            "grid_template_rows": null,
            "right": null,
            "justify_content": null,
            "_view_module": "@jupyter-widgets/base",
            "overflow": null,
            "_model_module_version": "1.2.0",
            "_view_count": null,
            "flex_flow": null,
            "width": null,
            "min_width": null,
            "border": null,
            "align_items": null,
            "bottom": null,
            "_model_module": "@jupyter-widgets/base",
            "top": null,
            "grid_column": null,
            "overflow_y": null,
            "overflow_x": null,
            "grid_auto_flow": null,
            "grid_area": null,
            "grid_template_columns": null,
            "flex": null,
            "_model_name": "LayoutModel",
            "justify_items": null,
            "grid_row": null,
            "max_height": null,
            "align_content": null,
            "visibility": null,
            "align_self": null,
            "height": null,
            "min_height": null,
            "padding": null,
            "grid_auto_rows": null,
            "grid_gap": null,
            "max_width": null,
            "order": null,
            "_view_module_version": "1.2.0",
            "grid_template_areas": null,
            "object_position": null,
            "object_fit": null,
            "grid_auto_columns": null,
            "margin": null,
            "display": null,
            "left": null
          }
        },
        "fffc3420b05c4cc9858e34e496381f38": {
          "model_module": "@jupyter-widgets/controls",
          "model_name": "DescriptionStyleModel",
          "state": {
            "_view_name": "StyleView",
            "_model_name": "DescriptionStyleModel",
            "description_width": "",
            "_view_module": "@jupyter-widgets/base",
            "_model_module_version": "1.5.0",
            "_view_count": null,
            "_view_module_version": "1.2.0",
            "_model_module": "@jupyter-widgets/controls"
          }
        },
        "f1e5d7f1eefe4732a1e51142b6d23c3c": {
          "model_module": "@jupyter-widgets/base",
          "model_name": "LayoutModel",
          "state": {
            "_view_name": "LayoutView",
            "grid_template_rows": null,
            "right": null,
            "justify_content": null,
            "_view_module": "@jupyter-widgets/base",
            "overflow": null,
            "_model_module_version": "1.2.0",
            "_view_count": null,
            "flex_flow": null,
            "width": null,
            "min_width": null,
            "border": null,
            "align_items": null,
            "bottom": null,
            "_model_module": "@jupyter-widgets/base",
            "top": null,
            "grid_column": null,
            "overflow_y": null,
            "overflow_x": null,
            "grid_auto_flow": null,
            "grid_area": null,
            "grid_template_columns": null,
            "flex": null,
            "_model_name": "LayoutModel",
            "justify_items": null,
            "grid_row": null,
            "max_height": null,
            "align_content": null,
            "visibility": null,
            "align_self": null,
            "height": null,
            "min_height": null,
            "padding": null,
            "grid_auto_rows": null,
            "grid_gap": null,
            "max_width": null,
            "order": null,
            "_view_module_version": "1.2.0",
            "grid_template_areas": null,
            "object_position": null,
            "object_fit": null,
            "grid_auto_columns": null,
            "margin": null,
            "display": null,
            "left": null
          }
        },
        "8d24b512b4c04e3b8cee8e98b03e097c": {
          "model_module": "@jupyter-widgets/controls",
          "model_name": "HBoxModel",
          "state": {
            "_view_name": "HBoxView",
            "_dom_classes": [],
            "_model_name": "HBoxModel",
            "_view_module": "@jupyter-widgets/controls",
            "_model_module_version": "1.5.0",
            "_view_count": null,
            "_view_module_version": "1.5.0",
            "box_style": "",
            "layout": "IPY_MODEL_95660130452347e79f07f696806c2de9",
            "_model_module": "@jupyter-widgets/controls",
            "children": [
              "IPY_MODEL_0ed8bf5888ee4dcdbff2930b8ecd8a8b",
              "IPY_MODEL_3398fb48fab448f9a2daea4464448a70"
            ]
          }
        },
        "95660130452347e79f07f696806c2de9": {
          "model_module": "@jupyter-widgets/base",
          "model_name": "LayoutModel",
          "state": {
            "_view_name": "LayoutView",
            "grid_template_rows": null,
            "right": null,
            "justify_content": null,
            "_view_module": "@jupyter-widgets/base",
            "overflow": null,
            "_model_module_version": "1.2.0",
            "_view_count": null,
            "flex_flow": null,
            "width": null,
            "min_width": null,
            "border": null,
            "align_items": null,
            "bottom": null,
            "_model_module": "@jupyter-widgets/base",
            "top": null,
            "grid_column": null,
            "overflow_y": null,
            "overflow_x": null,
            "grid_auto_flow": null,
            "grid_area": null,
            "grid_template_columns": null,
            "flex": null,
            "_model_name": "LayoutModel",
            "justify_items": null,
            "grid_row": null,
            "max_height": null,
            "align_content": null,
            "visibility": null,
            "align_self": null,
            "height": null,
            "min_height": null,
            "padding": null,
            "grid_auto_rows": null,
            "grid_gap": null,
            "max_width": null,
            "order": null,
            "_view_module_version": "1.2.0",
            "grid_template_areas": null,
            "object_position": null,
            "object_fit": null,
            "grid_auto_columns": null,
            "margin": null,
            "display": null,
            "left": null
          }
        },
        "0ed8bf5888ee4dcdbff2930b8ecd8a8b": {
          "model_module": "@jupyter-widgets/controls",
          "model_name": "FloatProgressModel",
          "state": {
            "_view_name": "ProgressView",
            "style": "IPY_MODEL_8aa8acffba054b12baf840348c3bf208",
            "_dom_classes": [],
            "description": "",
            "_model_name": "FloatProgressModel",
            "bar_style": "success",
            "max": 1,
            "_view_module": "@jupyter-widgets/controls",
            "_model_module_version": "1.5.0",
            "value": 1,
            "_view_count": null,
            "_view_module_version": "1.5.0",
            "orientation": "horizontal",
            "min": 0,
            "description_tooltip": null,
            "_model_module": "@jupyter-widgets/controls",
            "layout": "IPY_MODEL_ed5a3f11e916481f82782508ff835668"
          }
        },
        "3398fb48fab448f9a2daea4464448a70": {
          "model_module": "@jupyter-widgets/controls",
          "model_name": "HTMLModel",
          "state": {
            "_view_name": "HTMLView",
            "style": "IPY_MODEL_ce53436119fd4624b141259ca849e450",
            "_dom_classes": [],
            "description": "",
            "_model_name": "HTMLModel",
            "placeholder": "​",
            "_view_module": "@jupyter-widgets/controls",
            "_model_module_version": "1.5.0",
            "value": " 32768/? [00:01&lt;00:00, 20932.70it/s]",
            "_view_count": null,
            "_view_module_version": "1.5.0",
            "description_tooltip": null,
            "_model_module": "@jupyter-widgets/controls",
            "layout": "IPY_MODEL_ff08118ce2034547937fd762b9287328"
          }
        },
        "8aa8acffba054b12baf840348c3bf208": {
          "model_module": "@jupyter-widgets/controls",
          "model_name": "ProgressStyleModel",
          "state": {
            "_view_name": "StyleView",
            "_model_name": "ProgressStyleModel",
            "description_width": "initial",
            "_view_module": "@jupyter-widgets/base",
            "_model_module_version": "1.5.0",
            "_view_count": null,
            "_view_module_version": "1.2.0",
            "bar_color": null,
            "_model_module": "@jupyter-widgets/controls"
          }
        },
        "ed5a3f11e916481f82782508ff835668": {
          "model_module": "@jupyter-widgets/base",
          "model_name": "LayoutModel",
          "state": {
            "_view_name": "LayoutView",
            "grid_template_rows": null,
            "right": null,
            "justify_content": null,
            "_view_module": "@jupyter-widgets/base",
            "overflow": null,
            "_model_module_version": "1.2.0",
            "_view_count": null,
            "flex_flow": null,
            "width": null,
            "min_width": null,
            "border": null,
            "align_items": null,
            "bottom": null,
            "_model_module": "@jupyter-widgets/base",
            "top": null,
            "grid_column": null,
            "overflow_y": null,
            "overflow_x": null,
            "grid_auto_flow": null,
            "grid_area": null,
            "grid_template_columns": null,
            "flex": null,
            "_model_name": "LayoutModel",
            "justify_items": null,
            "grid_row": null,
            "max_height": null,
            "align_content": null,
            "visibility": null,
            "align_self": null,
            "height": null,
            "min_height": null,
            "padding": null,
            "grid_auto_rows": null,
            "grid_gap": null,
            "max_width": null,
            "order": null,
            "_view_module_version": "1.2.0",
            "grid_template_areas": null,
            "object_position": null,
            "object_fit": null,
            "grid_auto_columns": null,
            "margin": null,
            "display": null,
            "left": null
          }
        },
        "ce53436119fd4624b141259ca849e450": {
          "model_module": "@jupyter-widgets/controls",
          "model_name": "DescriptionStyleModel",
          "state": {
            "_view_name": "StyleView",
            "_model_name": "DescriptionStyleModel",
            "description_width": "",
            "_view_module": "@jupyter-widgets/base",
            "_model_module_version": "1.5.0",
            "_view_count": null,
            "_view_module_version": "1.2.0",
            "_model_module": "@jupyter-widgets/controls"
          }
        },
        "ff08118ce2034547937fd762b9287328": {
          "model_module": "@jupyter-widgets/base",
          "model_name": "LayoutModel",
          "state": {
            "_view_name": "LayoutView",
            "grid_template_rows": null,
            "right": null,
            "justify_content": null,
            "_view_module": "@jupyter-widgets/base",
            "overflow": null,
            "_model_module_version": "1.2.0",
            "_view_count": null,
            "flex_flow": null,
            "width": null,
            "min_width": null,
            "border": null,
            "align_items": null,
            "bottom": null,
            "_model_module": "@jupyter-widgets/base",
            "top": null,
            "grid_column": null,
            "overflow_y": null,
            "overflow_x": null,
            "grid_auto_flow": null,
            "grid_area": null,
            "grid_template_columns": null,
            "flex": null,
            "_model_name": "LayoutModel",
            "justify_items": null,
            "grid_row": null,
            "max_height": null,
            "align_content": null,
            "visibility": null,
            "align_self": null,
            "height": null,
            "min_height": null,
            "padding": null,
            "grid_auto_rows": null,
            "grid_gap": null,
            "max_width": null,
            "order": null,
            "_view_module_version": "1.2.0",
            "grid_template_areas": null,
            "object_position": null,
            "object_fit": null,
            "grid_auto_columns": null,
            "margin": null,
            "display": null,
            "left": null
          }
        },
        "109d381fd8dc4d04823f5da4b899bda5": {
          "model_module": "@jupyter-widgets/controls",
          "model_name": "HBoxModel",
          "state": {
            "_view_name": "HBoxView",
            "_dom_classes": [],
            "_model_name": "HBoxModel",
            "_view_module": "@jupyter-widgets/controls",
            "_model_module_version": "1.5.0",
            "_view_count": null,
            "_view_module_version": "1.5.0",
            "box_style": "",
            "layout": "IPY_MODEL_0d6f204c3d1849c1bd2d48df53944294",
            "_model_module": "@jupyter-widgets/controls",
            "children": [
              "IPY_MODEL_ca7f28dc301146c4b27f7eb1c9b336e8",
              "IPY_MODEL_48f69597b0614aa9b08455ca4a432a99"
            ]
          }
        },
        "0d6f204c3d1849c1bd2d48df53944294": {
          "model_module": "@jupyter-widgets/base",
          "model_name": "LayoutModel",
          "state": {
            "_view_name": "LayoutView",
            "grid_template_rows": null,
            "right": null,
            "justify_content": null,
            "_view_module": "@jupyter-widgets/base",
            "overflow": null,
            "_model_module_version": "1.2.0",
            "_view_count": null,
            "flex_flow": null,
            "width": null,
            "min_width": null,
            "border": null,
            "align_items": null,
            "bottom": null,
            "_model_module": "@jupyter-widgets/base",
            "top": null,
            "grid_column": null,
            "overflow_y": null,
            "overflow_x": null,
            "grid_auto_flow": null,
            "grid_area": null,
            "grid_template_columns": null,
            "flex": null,
            "_model_name": "LayoutModel",
            "justify_items": null,
            "grid_row": null,
            "max_height": null,
            "align_content": null,
            "visibility": null,
            "align_self": null,
            "height": null,
            "min_height": null,
            "padding": null,
            "grid_auto_rows": null,
            "grid_gap": null,
            "max_width": null,
            "order": null,
            "_view_module_version": "1.2.0",
            "grid_template_areas": null,
            "object_position": null,
            "object_fit": null,
            "grid_auto_columns": null,
            "margin": null,
            "display": null,
            "left": null
          }
        },
        "ca7f28dc301146c4b27f7eb1c9b336e8": {
          "model_module": "@jupyter-widgets/controls",
          "model_name": "FloatProgressModel",
          "state": {
            "_view_name": "ProgressView",
            "style": "IPY_MODEL_5a3a3ad6da7746c797c12b7d3ebe661d",
            "_dom_classes": [],
            "description": "",
            "_model_name": "FloatProgressModel",
            "bar_style": "success",
            "max": 1,
            "_view_module": "@jupyter-widgets/controls",
            "_model_module_version": "1.5.0",
            "value": 1,
            "_view_count": null,
            "_view_module_version": "1.5.0",
            "orientation": "horizontal",
            "min": 0,
            "description_tooltip": null,
            "_model_module": "@jupyter-widgets/controls",
            "layout": "IPY_MODEL_a6cd0be3d9874268b2ce332f3989a49a"
          }
        },
        "48f69597b0614aa9b08455ca4a432a99": {
          "model_module": "@jupyter-widgets/controls",
          "model_name": "HTMLModel",
          "state": {
            "_view_name": "HTMLView",
            "style": "IPY_MODEL_f1075330c6a2430790d5a1e7bef495f8",
            "_dom_classes": [],
            "description": "",
            "_model_name": "HTMLModel",
            "placeholder": "​",
            "_view_module": "@jupyter-widgets/controls",
            "_model_module_version": "1.5.0",
            "value": " 1654784/? [00:01&lt;00:00, 1359900.27it/s]",
            "_view_count": null,
            "_view_module_version": "1.5.0",
            "description_tooltip": null,
            "_model_module": "@jupyter-widgets/controls",
            "layout": "IPY_MODEL_5dbc5fa8e0d9470fa4f49de902df7e90"
          }
        },
        "5a3a3ad6da7746c797c12b7d3ebe661d": {
          "model_module": "@jupyter-widgets/controls",
          "model_name": "ProgressStyleModel",
          "state": {
            "_view_name": "StyleView",
            "_model_name": "ProgressStyleModel",
            "description_width": "initial",
            "_view_module": "@jupyter-widgets/base",
            "_model_module_version": "1.5.0",
            "_view_count": null,
            "_view_module_version": "1.2.0",
            "bar_color": null,
            "_model_module": "@jupyter-widgets/controls"
          }
        },
        "a6cd0be3d9874268b2ce332f3989a49a": {
          "model_module": "@jupyter-widgets/base",
          "model_name": "LayoutModel",
          "state": {
            "_view_name": "LayoutView",
            "grid_template_rows": null,
            "right": null,
            "justify_content": null,
            "_view_module": "@jupyter-widgets/base",
            "overflow": null,
            "_model_module_version": "1.2.0",
            "_view_count": null,
            "flex_flow": null,
            "width": null,
            "min_width": null,
            "border": null,
            "align_items": null,
            "bottom": null,
            "_model_module": "@jupyter-widgets/base",
            "top": null,
            "grid_column": null,
            "overflow_y": null,
            "overflow_x": null,
            "grid_auto_flow": null,
            "grid_area": null,
            "grid_template_columns": null,
            "flex": null,
            "_model_name": "LayoutModel",
            "justify_items": null,
            "grid_row": null,
            "max_height": null,
            "align_content": null,
            "visibility": null,
            "align_self": null,
            "height": null,
            "min_height": null,
            "padding": null,
            "grid_auto_rows": null,
            "grid_gap": null,
            "max_width": null,
            "order": null,
            "_view_module_version": "1.2.0",
            "grid_template_areas": null,
            "object_position": null,
            "object_fit": null,
            "grid_auto_columns": null,
            "margin": null,
            "display": null,
            "left": null
          }
        },
        "f1075330c6a2430790d5a1e7bef495f8": {
          "model_module": "@jupyter-widgets/controls",
          "model_name": "DescriptionStyleModel",
          "state": {
            "_view_name": "StyleView",
            "_model_name": "DescriptionStyleModel",
            "description_width": "",
            "_view_module": "@jupyter-widgets/base",
            "_model_module_version": "1.5.0",
            "_view_count": null,
            "_view_module_version": "1.2.0",
            "_model_module": "@jupyter-widgets/controls"
          }
        },
        "5dbc5fa8e0d9470fa4f49de902df7e90": {
          "model_module": "@jupyter-widgets/base",
          "model_name": "LayoutModel",
          "state": {
            "_view_name": "LayoutView",
            "grid_template_rows": null,
            "right": null,
            "justify_content": null,
            "_view_module": "@jupyter-widgets/base",
            "overflow": null,
            "_model_module_version": "1.2.0",
            "_view_count": null,
            "flex_flow": null,
            "width": null,
            "min_width": null,
            "border": null,
            "align_items": null,
            "bottom": null,
            "_model_module": "@jupyter-widgets/base",
            "top": null,
            "grid_column": null,
            "overflow_y": null,
            "overflow_x": null,
            "grid_auto_flow": null,
            "grid_area": null,
            "grid_template_columns": null,
            "flex": null,
            "_model_name": "LayoutModel",
            "justify_items": null,
            "grid_row": null,
            "max_height": null,
            "align_content": null,
            "visibility": null,
            "align_self": null,
            "height": null,
            "min_height": null,
            "padding": null,
            "grid_auto_rows": null,
            "grid_gap": null,
            "max_width": null,
            "order": null,
            "_view_module_version": "1.2.0",
            "grid_template_areas": null,
            "object_position": null,
            "object_fit": null,
            "grid_auto_columns": null,
            "margin": null,
            "display": null,
            "left": null
          }
        },
        "8a4e08af99554eb1b3ff9a0f769ad406": {
          "model_module": "@jupyter-widgets/controls",
          "model_name": "HBoxModel",
          "state": {
            "_view_name": "HBoxView",
            "_dom_classes": [],
            "_model_name": "HBoxModel",
            "_view_module": "@jupyter-widgets/controls",
            "_model_module_version": "1.5.0",
            "_view_count": null,
            "_view_module_version": "1.5.0",
            "box_style": "",
            "layout": "IPY_MODEL_bcac6f1d05aa485fbb5ad6980d9c04fd",
            "_model_module": "@jupyter-widgets/controls",
            "children": [
              "IPY_MODEL_9cf32f1e655749e69b9da75b7700bfd1",
              "IPY_MODEL_4e300bf824044419ac3f0fa47ca0b591"
            ]
          }
        },
        "bcac6f1d05aa485fbb5ad6980d9c04fd": {
          "model_module": "@jupyter-widgets/base",
          "model_name": "LayoutModel",
          "state": {
            "_view_name": "LayoutView",
            "grid_template_rows": null,
            "right": null,
            "justify_content": null,
            "_view_module": "@jupyter-widgets/base",
            "overflow": null,
            "_model_module_version": "1.2.0",
            "_view_count": null,
            "flex_flow": null,
            "width": null,
            "min_width": null,
            "border": null,
            "align_items": null,
            "bottom": null,
            "_model_module": "@jupyter-widgets/base",
            "top": null,
            "grid_column": null,
            "overflow_y": null,
            "overflow_x": null,
            "grid_auto_flow": null,
            "grid_area": null,
            "grid_template_columns": null,
            "flex": null,
            "_model_name": "LayoutModel",
            "justify_items": null,
            "grid_row": null,
            "max_height": null,
            "align_content": null,
            "visibility": null,
            "align_self": null,
            "height": null,
            "min_height": null,
            "padding": null,
            "grid_auto_rows": null,
            "grid_gap": null,
            "max_width": null,
            "order": null,
            "_view_module_version": "1.2.0",
            "grid_template_areas": null,
            "object_position": null,
            "object_fit": null,
            "grid_auto_columns": null,
            "margin": null,
            "display": null,
            "left": null
          }
        },
        "9cf32f1e655749e69b9da75b7700bfd1": {
          "model_module": "@jupyter-widgets/controls",
          "model_name": "FloatProgressModel",
          "state": {
            "_view_name": "ProgressView",
            "style": "IPY_MODEL_66fd2cf4921043829960c1f0a275bdfe",
            "_dom_classes": [],
            "description": "",
            "_model_name": "FloatProgressModel",
            "bar_style": "success",
            "max": 1,
            "_view_module": "@jupyter-widgets/controls",
            "_model_module_version": "1.5.0",
            "value": 1,
            "_view_count": null,
            "_view_module_version": "1.5.0",
            "orientation": "horizontal",
            "min": 0,
            "description_tooltip": null,
            "_model_module": "@jupyter-widgets/controls",
            "layout": "IPY_MODEL_e173df86caff46e899e93428d883dffe"
          }
        },
        "4e300bf824044419ac3f0fa47ca0b591": {
          "model_module": "@jupyter-widgets/controls",
          "model_name": "HTMLModel",
          "state": {
            "_view_name": "HTMLView",
            "style": "IPY_MODEL_1c3af9e196e843f29685c5aa2f1e46a3",
            "_dom_classes": [],
            "description": "",
            "_model_name": "HTMLModel",
            "placeholder": "​",
            "_view_module": "@jupyter-widgets/controls",
            "_model_module_version": "1.5.0",
            "value": " 8192/? [00:00&lt;00:00, 21658.34it/s]",
            "_view_count": null,
            "_view_module_version": "1.5.0",
            "description_tooltip": null,
            "_model_module": "@jupyter-widgets/controls",
            "layout": "IPY_MODEL_f6c122590904434e8b6ef68ead56c6af"
          }
        },
        "66fd2cf4921043829960c1f0a275bdfe": {
          "model_module": "@jupyter-widgets/controls",
          "model_name": "ProgressStyleModel",
          "state": {
            "_view_name": "StyleView",
            "_model_name": "ProgressStyleModel",
            "description_width": "initial",
            "_view_module": "@jupyter-widgets/base",
            "_model_module_version": "1.5.0",
            "_view_count": null,
            "_view_module_version": "1.2.0",
            "bar_color": null,
            "_model_module": "@jupyter-widgets/controls"
          }
        },
        "e173df86caff46e899e93428d883dffe": {
          "model_module": "@jupyter-widgets/base",
          "model_name": "LayoutModel",
          "state": {
            "_view_name": "LayoutView",
            "grid_template_rows": null,
            "right": null,
            "justify_content": null,
            "_view_module": "@jupyter-widgets/base",
            "overflow": null,
            "_model_module_version": "1.2.0",
            "_view_count": null,
            "flex_flow": null,
            "width": null,
            "min_width": null,
            "border": null,
            "align_items": null,
            "bottom": null,
            "_model_module": "@jupyter-widgets/base",
            "top": null,
            "grid_column": null,
            "overflow_y": null,
            "overflow_x": null,
            "grid_auto_flow": null,
            "grid_area": null,
            "grid_template_columns": null,
            "flex": null,
            "_model_name": "LayoutModel",
            "justify_items": null,
            "grid_row": null,
            "max_height": null,
            "align_content": null,
            "visibility": null,
            "align_self": null,
            "height": null,
            "min_height": null,
            "padding": null,
            "grid_auto_rows": null,
            "grid_gap": null,
            "max_width": null,
            "order": null,
            "_view_module_version": "1.2.0",
            "grid_template_areas": null,
            "object_position": null,
            "object_fit": null,
            "grid_auto_columns": null,
            "margin": null,
            "display": null,
            "left": null
          }
        },
        "1c3af9e196e843f29685c5aa2f1e46a3": {
          "model_module": "@jupyter-widgets/controls",
          "model_name": "DescriptionStyleModel",
          "state": {
            "_view_name": "StyleView",
            "_model_name": "DescriptionStyleModel",
            "description_width": "",
            "_view_module": "@jupyter-widgets/base",
            "_model_module_version": "1.5.0",
            "_view_count": null,
            "_view_module_version": "1.2.0",
            "_model_module": "@jupyter-widgets/controls"
          }
        },
        "f6c122590904434e8b6ef68ead56c6af": {
          "model_module": "@jupyter-widgets/base",
          "model_name": "LayoutModel",
          "state": {
            "_view_name": "LayoutView",
            "grid_template_rows": null,
            "right": null,
            "justify_content": null,
            "_view_module": "@jupyter-widgets/base",
            "overflow": null,
            "_model_module_version": "1.2.0",
            "_view_count": null,
            "flex_flow": null,
            "width": null,
            "min_width": null,
            "border": null,
            "align_items": null,
            "bottom": null,
            "_model_module": "@jupyter-widgets/base",
            "top": null,
            "grid_column": null,
            "overflow_y": null,
            "overflow_x": null,
            "grid_auto_flow": null,
            "grid_area": null,
            "grid_template_columns": null,
            "flex": null,
            "_model_name": "LayoutModel",
            "justify_items": null,
            "grid_row": null,
            "max_height": null,
            "align_content": null,
            "visibility": null,
            "align_self": null,
            "height": null,
            "min_height": null,
            "padding": null,
            "grid_auto_rows": null,
            "grid_gap": null,
            "max_width": null,
            "order": null,
            "_view_module_version": "1.2.0",
            "grid_template_areas": null,
            "object_position": null,
            "object_fit": null,
            "grid_auto_columns": null,
            "margin": null,
            "display": null,
            "left": null
          }
        }
      }
    }
  },
  "cells": [
    {
      "cell_type": "markdown",
      "metadata": {
        "id": "view-in-github",
        "colab_type": "text"
      },
      "source": [
        "<a href=\"https://colab.research.google.com/github/epigos/learning-pytorch/blob/master/02-MLP-Image-Classification.ipynb\" target=\"_parent\"><img src=\"https://colab.research.google.com/assets/colab-badge.svg\" alt=\"Open In Colab\"/></a>"
      ]
    },
    {
      "cell_type": "code",
      "metadata": {
        "id": "BT5lJ-YuX89u",
        "colab_type": "code",
        "colab": {}
      },
      "source": [
        "import time\n",
        "import copy\n",
        "import warnings\n",
        "from collections import defaultdict, deque\n",
        "warnings.filterwarnings('ignore')\n",
        "\n",
        "import numpy as np\n",
        "import torch\n",
        "import torch.nn as nn\n",
        "import torch.optim as optim\n",
        "from torch.utils import data\n",
        "import torch.nn.functional as F\n",
        "import torchvision\n",
        "from torchvision import transforms, datasets\n",
        "from PIL import Image, ImageFile\n",
        "import matplotlib.pyplot as plt"
      ],
      "execution_count": 0,
      "outputs": []
    },
    {
      "cell_type": "code",
      "metadata": {
        "id": "jJHydJFDX89y",
        "colab_type": "code",
        "colab": {
          "base_uri": "https://localhost:8080/",
          "height": 34
        },
        "outputId": "c35bc52b-7ee1-425f-cc2c-310ad5fcf9b1"
      },
      "source": [
        "device = torch.device('cuda' if torch.cuda.is_available() else 'cpu')\n",
        "if torch.cuda.is_available(): print('Device name:', torch.cuda.get_device_name())"
      ],
      "execution_count": 2,
      "outputs": [
        {
          "output_type": "stream",
          "text": [
            "Device name: Tesla K80\n"
          ],
          "name": "stdout"
        }
      ]
    },
    {
      "cell_type": "markdown",
      "metadata": {
        "id": "S5yXGhRbcRTJ",
        "colab_type": "text"
      },
      "source": [
        "# Load MNIST data"
      ]
    },
    {
      "cell_type": "code",
      "metadata": {
        "id": "YHWEg_ArX891",
        "colab_type": "code",
        "colab": {
          "base_uri": "https://localhost:8080/",
          "height": 315,
          "referenced_widgets": [
            "2fa266641db74d9da9f2b4580d5b514c",
            "8fb0490fdbf048beb3c05eefde179b8d",
            "9472758c25ae4cbc9254377c59422e59",
            "2f5bb0d836544a5db265d836c6ac1925",
            "d3b548cc718d405e9d8e99540be036fe",
            "6286b05fdcde494ba458389b8024af23",
            "fffc3420b05c4cc9858e34e496381f38",
            "f1e5d7f1eefe4732a1e51142b6d23c3c",
            "8d24b512b4c04e3b8cee8e98b03e097c",
            "95660130452347e79f07f696806c2de9",
            "0ed8bf5888ee4dcdbff2930b8ecd8a8b",
            "3398fb48fab448f9a2daea4464448a70",
            "8aa8acffba054b12baf840348c3bf208",
            "ed5a3f11e916481f82782508ff835668",
            "ce53436119fd4624b141259ca849e450",
            "ff08118ce2034547937fd762b9287328",
            "109d381fd8dc4d04823f5da4b899bda5",
            "0d6f204c3d1849c1bd2d48df53944294",
            "ca7f28dc301146c4b27f7eb1c9b336e8",
            "48f69597b0614aa9b08455ca4a432a99",
            "5a3a3ad6da7746c797c12b7d3ebe661d",
            "a6cd0be3d9874268b2ce332f3989a49a",
            "f1075330c6a2430790d5a1e7bef495f8",
            "5dbc5fa8e0d9470fa4f49de902df7e90",
            "8a4e08af99554eb1b3ff9a0f769ad406",
            "bcac6f1d05aa485fbb5ad6980d9c04fd",
            "9cf32f1e655749e69b9da75b7700bfd1",
            "4e300bf824044419ac3f0fa47ca0b591",
            "66fd2cf4921043829960c1f0a275bdfe",
            "e173df86caff46e899e93428d883dffe",
            "1c3af9e196e843f29685c5aa2f1e46a3",
            "f6c122590904434e8b6ef68ead56c6af"
          ]
        },
        "outputId": "3475fa64-0268-457a-f190-5e0544d69292"
      },
      "source": [
        "transform = transforms.Compose([\n",
        "    transforms.ToTensor(),\n",
        "    transforms.Normalize((0.5,), (0.5, ))\n",
        "])\n",
        "\n",
        "# load train and validation set\n",
        "dataset = datasets.MNIST('./data', download=True, train=True, transform=transform)\n",
        "train_set, val_set = data.random_split(dataset, [50000, 10000])  # split into train and val set\n",
        "\n",
        "train_loader = data.DataLoader(train_set, batch_size=128, shuffle=True)\n",
        "val_loader = data.DataLoader(val_set, batch_size=128, shuffle=True)\n",
        "# load test set\n",
        "test_set = datasets.MNIST('./data', download=True, train=False, transform=transform)\n",
        "test_loader = data.DataLoader(test_set, batch_size=128, shuffle=True)"
      ],
      "execution_count": 3,
      "outputs": [
        {
          "output_type": "stream",
          "text": [
            "Downloading http://yann.lecun.com/exdb/mnist/train-images-idx3-ubyte.gz to ./data/MNIST/raw/train-images-idx3-ubyte.gz\n"
          ],
          "name": "stdout"
        },
        {
          "output_type": "display_data",
          "data": {
            "application/vnd.jupyter.widget-view+json": {
              "model_id": "2fa266641db74d9da9f2b4580d5b514c",
              "version_minor": 0,
              "version_major": 2
            },
            "text/plain": [
              "HBox(children=(FloatProgress(value=1.0, bar_style='info', max=1.0), HTML(value='')))"
            ]
          },
          "metadata": {
            "tags": []
          }
        },
        {
          "output_type": "stream",
          "text": [
            "Extracting ./data/MNIST/raw/train-images-idx3-ubyte.gz to ./data/MNIST/raw\n",
            "Downloading http://yann.lecun.com/exdb/mnist/train-labels-idx1-ubyte.gz to ./data/MNIST/raw/train-labels-idx1-ubyte.gz\n"
          ],
          "name": "stdout"
        },
        {
          "output_type": "display_data",
          "data": {
            "application/vnd.jupyter.widget-view+json": {
              "model_id": "8d24b512b4c04e3b8cee8e98b03e097c",
              "version_minor": 0,
              "version_major": 2
            },
            "text/plain": [
              "HBox(children=(FloatProgress(value=1.0, bar_style='info', max=1.0), HTML(value='')))"
            ]
          },
          "metadata": {
            "tags": []
          }
        },
        {
          "output_type": "stream",
          "text": [
            "Extracting ./data/MNIST/raw/train-labels-idx1-ubyte.gz to ./data/MNIST/raw\n",
            "Downloading http://yann.lecun.com/exdb/mnist/t10k-images-idx3-ubyte.gz to ./data/MNIST/raw/t10k-images-idx3-ubyte.gz\n"
          ],
          "name": "stdout"
        },
        {
          "output_type": "display_data",
          "data": {
            "application/vnd.jupyter.widget-view+json": {
              "model_id": "109d381fd8dc4d04823f5da4b899bda5",
              "version_minor": 0,
              "version_major": 2
            },
            "text/plain": [
              "HBox(children=(FloatProgress(value=1.0, bar_style='info', max=1.0), HTML(value='')))"
            ]
          },
          "metadata": {
            "tags": []
          }
        },
        {
          "output_type": "stream",
          "text": [
            "Extracting ./data/MNIST/raw/t10k-images-idx3-ubyte.gz to ./data/MNIST/raw\n",
            "Downloading http://yann.lecun.com/exdb/mnist/t10k-labels-idx1-ubyte.gz to ./data/MNIST/raw/t10k-labels-idx1-ubyte.gz\n"
          ],
          "name": "stdout"
        },
        {
          "output_type": "display_data",
          "data": {
            "application/vnd.jupyter.widget-view+json": {
              "model_id": "8a4e08af99554eb1b3ff9a0f769ad406",
              "version_minor": 0,
              "version_major": 2
            },
            "text/plain": [
              "HBox(children=(FloatProgress(value=1.0, bar_style='info', max=1.0), HTML(value='')))"
            ]
          },
          "metadata": {
            "tags": []
          }
        },
        {
          "output_type": "stream",
          "text": [
            "Extracting ./data/MNIST/raw/t10k-labels-idx1-ubyte.gz to ./data/MNIST/raw\n",
            "Processing...\n",
            "Done!\n"
          ],
          "name": "stdout"
        }
      ]
    },
    {
      "cell_type": "code",
      "metadata": {
        "id": "nHNjAItRX893",
        "colab_type": "code",
        "colab": {
          "base_uri": "https://localhost:8080/",
          "height": 136
        },
        "outputId": "31db920f-003f-4fa0-a2cb-7c763625fb15"
      },
      "source": [
        "print(f\"Number of training images: {len(train_set)}\")\n",
        "print(f\"Number of validation images: {len(val_set)}\")\n",
        "print(f\"Number of testing images: {len(test_set)}\")\n",
        "print(f\"Size of each image: {train_set[0][0].size()}\")\n",
        "data_loader = {'train': train_loader, 'val': val_loader}"
      ],
      "execution_count": 4,
      "outputs": [
        {
          "output_type": "stream",
          "text": [
            "Number of training images: 50000\n",
            "Number of validation images: 10000\n",
            "Number of testing images: 10000\n",
            "\n",
            "\n",
            "\n",
            "Size of each image: torch.Size([1, 28, 28])\n"
          ],
          "name": "stdout"
        }
      ]
    },
    {
      "cell_type": "markdown",
      "metadata": {
        "id": "TmZjIMhuX895",
        "colab_type": "text"
      },
      "source": [
        "## Show some images"
      ]
    },
    {
      "cell_type": "code",
      "metadata": {
        "id": "f8_eyv2qX895",
        "colab_type": "code",
        "colab": {}
      },
      "source": [
        "def imshow(tensor, ax=None):\n",
        "    np_img = tensor.permute(1, 2, 0).numpy()\n",
        "    if not ax:\n",
        "        _, ax = plt.subplots()\n",
        "    ax.imshow(np_img.astype(np.uint8), cmap='Greys')\n",
        "    plt.axis('off')"
      ],
      "execution_count": 0,
      "outputs": []
    },
    {
      "cell_type": "code",
      "metadata": {
        "id": "-4SY2HKsX897",
        "colab_type": "code",
        "colab": {
          "base_uri": "https://localhost:8080/",
          "height": 339
        },
        "outputId": "09532b1b-53bb-4e00-bc16-ba2fdea88a28"
      },
      "source": [
        "# get some random training images\n",
        "data_iter = iter(data_loader['train'])\n",
        "sample_images, labels = data_iter.next()\n",
        "# show images\n",
        "fig, ax = plt.subplots(figsize=(12, 4), dpi=100)\n",
        "grid = torchvision.utils.make_grid(sample_images, nrow=16)\n",
        "imshow(grid, ax=ax)"
      ],
      "execution_count": 6,
      "outputs": [
        {
          "output_type": "display_data",
          "data": {
            "image/png": "[encoded data removed]",
            "text/plain": [
              "<Figure size 1200x400 with 1 Axes>"
            ]
          },
          "metadata": {
            "tags": [],
            "needs_background": "light"
          }
        }
      ]
    },
    {
      "cell_type": "code",
      "metadata": {
        "id": "TV1PWAvhpDi_",
        "colab_type": "code",
        "colab": {
          "base_uri": "https://localhost:8080/",
          "height": 187
        },
        "outputId": "da4b4b44-95d9-4f03-ca64-f688e640abdf"
      },
      "source": [
        "# classes\n",
        "categories = dataset.class_to_idx\n",
        "output_size = len(categories)\n",
        "categories"
      ],
      "execution_count": 7,
      "outputs": [
        {
          "output_type": "execute_result",
          "data": {
            "text/plain": [
              "{'0 - zero': 0,\n",
              " '1 - one': 1,\n",
              " '2 - two': 2,\n",
              " '3 - three': 3,\n",
              " '4 - four': 4,\n",
              " '5 - five': 5,\n",
              " '6 - six': 6,\n",
              " '7 - seven': 7,\n",
              " '8 - eight': 8,\n",
              " '9 - nine': 9}"
            ]
          },
          "metadata": {
            "tags": []
          },
          "execution_count": 7
        }
      ]
    },
    {
      "cell_type": "markdown",
      "metadata": {
        "id": "HJwYMb7qX899",
        "colab_type": "text"
      },
      "source": [
        "# Create the MLP model"
      ]
    },
    {
      "cell_type": "code",
      "metadata": {
        "id": "cbaKnPTXX89-",
        "colab_type": "code",
        "colab": {}
      },
      "source": [
        "class MLP(nn.Module):\n",
        "\n",
        "    def __init__(self, input_size=28, output_size=output_size):\n",
        "        super().__init__()\n",
        "        self.input_size = input_size\n",
        "        self.fc1 = nn.Linear(self.input_size * self.input_size, 128)\n",
        "        self.fc2 = nn.Linear(128, 64)\n",
        "        self.fc3 = nn.Linear(64, output_size)\n",
        "    \n",
        "    def forward(self, x):\n",
        "        x = x.view(-1, self.input_size * self.input_size)\n",
        "        x = F.relu(self.fc1(x))\n",
        "        x = F.relu(self.fc2(x))\n",
        "        x = self.fc3(x)\n",
        "        return x\n",
        "\n",
        "net = MLP()"
      ],
      "execution_count": 0,
      "outputs": []
    },
    {
      "cell_type": "code",
      "metadata": {
        "id": "JNyDQz_JlX9J",
        "colab_type": "code",
        "colab": {
          "base_uri": "https://localhost:8080/",
          "height": 102
        },
        "outputId": "e4a9bda8-623e-4cff-c1b7-09bfb5d94abf"
      },
      "source": [
        "net"
      ],
      "execution_count": 9,
      "outputs": [
        {
          "output_type": "execute_result",
          "data": {
            "text/plain": [
              "MLP(\n",
              "  (fc1): Linear(in_features=784, out_features=128, bias=True)\n",
              "  (fc2): Linear(in_features=128, out_features=64, bias=True)\n",
              "  (fc3): Linear(in_features=64, out_features=10, bias=True)\n",
              ")"
            ]
          },
          "metadata": {
            "tags": []
          },
          "execution_count": 9
        }
      ]
    },
    {
      "cell_type": "code",
      "metadata": {
        "id": "QpQ-KRMqeSg_",
        "colab_type": "code",
        "colab": {
          "base_uri": "https://localhost:8080/",
          "height": 51
        },
        "outputId": "b10d7758-523c-43de-bc60-72b03ad21c71"
      },
      "source": [
        "# test network\n",
        "net(torch.rand(1, 1, 28, 28))"
      ],
      "execution_count": 10,
      "outputs": [
        {
          "output_type": "execute_result",
          "data": {
            "text/plain": [
              "tensor([[ 0.1251, -0.0040,  0.0306, -0.1587,  0.0360,  0.0089,  0.0131,  0.0534,\n",
              "         -0.0101, -0.0435]], grad_fn=<AddmmBackward>)"
            ]
          },
          "metadata": {
            "tags": []
          },
          "execution_count": 10
        }
      ]
    },
    {
      "cell_type": "markdown",
      "metadata": {
        "id": "fSWqNQoFX8-H",
        "colab_type": "text"
      },
      "source": [
        "# Train the network"
      ]
    },
    {
      "cell_type": "code",
      "metadata": {
        "id": "Wr3AfeoRX8-I",
        "colab_type": "code",
        "colab": {}
      },
      "source": [
        "def train(model, data_loader, epochs=5, lr=1e-2):\n",
        "    model.__init__()  # reset model weights\n",
        "    model = model.to(device)\n",
        "    # define training function\n",
        "    optimizer = optim.Adam(model.parameters(), lr=lr)\n",
        "    # define loss function\n",
        "    criterion = nn.CrossEntropyLoss()\n",
        "    # define training variables\n",
        "    since = time.time()\n",
        "    best_weights = copy.deepcopy(model.state_dict())\n",
        "    best_acc = 0.0\n",
        "    loss_history = defaultdict(lambda: deque(maxlen=epochs))\n",
        "    accuracy_history = defaultdict(lambda: deque(maxlen=epochs))\n",
        "\n",
        "    for epoch in range(1, epochs+1):\n",
        "        print('Epoch {}/{}'.format(epoch, epochs))\n",
        "        print('-' * 60)    \n",
        "\n",
        "        # Each epoch has a training and validation phase\n",
        "        for phase in ['train', 'val']:\n",
        "            if phase == 'train':\n",
        "                model.train()  # Set model to training mode\n",
        "            else:\n",
        "                model.eval()   # Set model to evaluate mode\n",
        "\n",
        "            running_loss = 0.0\n",
        "            running_corrects = 0\n",
        "            total = 0\n",
        "\n",
        "            # Iterate over data.\n",
        "            for inputs, labels in data_loader[phase]:\n",
        "                inputs = inputs.to(device)\n",
        "                labels = labels.to(device)\n",
        "\n",
        "                # zero the parameter gradients\n",
        "                optimizer.zero_grad()\n",
        "\n",
        "                # forward\n",
        "                # track history if only in train\n",
        "                with torch.set_grad_enabled(phase == 'train'):\n",
        "                    # make predictions\n",
        "                    outputs = model(inputs)\n",
        "                    loss = criterion(outputs, labels)\n",
        "\n",
        "                    _, preds = torch.max(outputs.data, 1)\n",
        "\n",
        "                    # backward + optimize only if in training phase\n",
        "                    if phase == 'train':\n",
        "                        loss.backward()\n",
        "                        optimizer.step()\n",
        "\n",
        "                # statistics\n",
        "                total += labels.size(0)\n",
        "                running_loss += loss.item() * inputs.size(0)\n",
        "                running_corrects += torch.sum(preds == labels).item()\n",
        "\n",
        "            epoch_loss = running_loss / total\n",
        "            epoch_acc = running_corrects / total\n",
        "\n",
        "            print('{} Loss: {:.4f} Acc: {:.4f}'.format(phase, epoch_loss, epoch_acc))\n",
        "            loss_history[phase].append(epoch_loss)\n",
        "            accuracy_history[phase].append(epoch_acc)\n",
        "            \n",
        "            # deep copy the model\n",
        "            if phase == 'val' and epoch_acc > best_acc:\n",
        "                best_acc = epoch_acc\n",
        "                best_weights = copy.deepcopy(model.state_dict())\n",
        "            \n",
        "\n",
        "    time_elapsed = time.time() - since\n",
        "    print('-' * 60)\n",
        "    print('Training complete in {:.0f}m {:.0f}s'.format(time_elapsed // 60, time_elapsed % 60))\n",
        "    print('Best val Acc: {:.3f} %'.format(100 * best_acc))\n",
        "    print('=' * 60, '\\n')\n",
        "    # load best weights\n",
        "    model.load_state_dict(best_weights)\n",
        "    return loss_history, accuracy_history"
      ],
      "execution_count": 0,
      "outputs": []
    },
    {
      "cell_type": "code",
      "metadata": {
        "id": "HCV1_8NIX8-J",
        "colab_type": "code",
        "colab": {
          "base_uri": "https://localhost:8080/",
          "height": 782
        },
        "outputId": "9522c672-b8c4-4301-8788-926fd688f0e8"
      },
      "source": [
        "loss_history, accuracy_history = train(net, data_loader, epochs=10)"
      ],
      "execution_count": 12,
      "outputs": [
        {
          "output_type": "stream",
          "text": [
            "Epoch 1/10\n",
            "------------------------------------------------------------\n",
            "train Loss: 0.4529 Acc: 0.8564\n",
            "val Loss: 0.2524 Acc: 0.9217\n",
            "Epoch 2/10\n",
            "------------------------------------------------------------\n",
            "train Loss: 0.2229 Acc: 0.9340\n",
            "val Loss: 0.1920 Acc: 0.9434\n",
            "Epoch 3/10\n",
            "------------------------------------------------------------\n",
            "train Loss: 0.1907 Acc: 0.9434\n",
            "val Loss: 0.2273 Acc: 0.9337\n",
            "Epoch 4/10\n",
            "------------------------------------------------------------\n",
            "train Loss: 0.1726 Acc: 0.9484\n",
            "val Loss: 0.1989 Acc: 0.9421\n",
            "Epoch 5/10\n",
            "------------------------------------------------------------\n",
            "train Loss: 0.1707 Acc: 0.9485\n",
            "val Loss: 0.1914 Acc: 0.9431\n",
            "Epoch 6/10\n",
            "------------------------------------------------------------\n",
            "train Loss: 0.1527 Acc: 0.9546\n",
            "val Loss: 0.2074 Acc: 0.9355\n",
            "Epoch 7/10\n",
            "------------------------------------------------------------\n",
            "train Loss: 0.1574 Acc: 0.9523\n",
            "val Loss: 0.1970 Acc: 0.9408\n",
            "Epoch 8/10\n",
            "------------------------------------------------------------\n",
            "train Loss: 0.1379 Acc: 0.9589\n",
            "val Loss: 0.1774 Acc: 0.9492\n",
            "Epoch 9/10\n",
            "------------------------------------------------------------\n",
            "train Loss: 0.1377 Acc: 0.9592\n",
            "val Loss: 0.2001 Acc: 0.9405\n",
            "Epoch 10/10\n",
            "------------------------------------------------------------\n",
            "train Loss: 0.1370 Acc: 0.9606\n",
            "val Loss: 0.2106 Acc: 0.9387\n",
            "------------------------------------------------------------\n",
            "Training complete in 2m 11s\n",
            "Best val Acc: 94.920 %\n",
            "============================================================ \n",
            "\n"
          ],
          "name": "stdout"
        }
      ]
    },
    {
      "cell_type": "markdown",
      "metadata": {
        "id": "3Sy42YKXxVnH",
        "colab_type": "text"
      },
      "source": [
        "# Visualize training performance"
      ]
    },
    {
      "cell_type": "code",
      "metadata": {
        "id": "Ekh8zfiCxXm5",
        "colab_type": "code",
        "colab": {}
      },
      "source": [
        "def plot_learning_curve(loss_history, accuracy_history, figsize=(12, 4)):\n",
        "\n",
        "    x_values = range(1, len(loss_history['train'])+1)\n",
        "\n",
        "    fig, (ax1, ax2) = plt.subplots(1, 2, figsize=figsize, sharex=True)\n",
        "    lines = dict(train='--', val='-')\n",
        "\n",
        "    for phase, label in zip(['train', 'val'], ['Training', 'Validation']):\n",
        "        ax1.plot(x_values, loss_history[phase], lines[phase],  label=f\"{label}\")\n",
        "\n",
        "    plt.sca(ax1)\n",
        "    plt.xlabel('Epoch')\n",
        "    plt.legend()\n",
        "    _ = plt.title(\"Loss\")\n",
        "\n",
        "    for phase, label in zip(['train', 'val'], ['Training', 'Validation']):\n",
        "        ax2.plot(x_values, accuracy_history[phase], lines[phase], label=f\"{label}\")\n",
        "\n",
        "    plt.sca(ax2)\n",
        "    plt.xlabel('Epoch')\n",
        "    plt.legend()\n",
        "    _ = plt.title(\"Accuracy\")\n",
        "    _ = plt.suptitle(f\"Training Performance\\n\")\n",
        "    _ = plt.subplots_adjust(top=0.9)\n",
        "    plt.show()"
      ],
      "execution_count": 0,
      "outputs": []
    },
    {
      "cell_type": "code",
      "metadata": {
        "id": "YuhI7Ml4xlBz",
        "colab_type": "code",
        "colab": {
          "base_uri": "https://localhost:8080/",
          "height": 308
        },
        "outputId": "d54dcb4c-4f8f-4f21-8f9b-a4a69022b741"
      },
      "source": [
        "plot_learning_curve(loss_history, accuracy_history)"
      ],
      "execution_count": 14,
      "outputs": [
        {
          "output_type": "display_data",
          "data": {
            "image/png": "[encoded data removed]",
            "text/plain": [
              "<Figure size 864x288 with 2 Axes>"
            ]
          },
          "metadata": {
            "tags": [],
            "needs_background": "light"
          }
        }
      ]
    },
    {
      "cell_type": "markdown",
      "metadata": {
        "id": "jcc82T6-zWXp",
        "colab_type": "text"
      },
      "source": [
        "# Evaluate model"
      ]
    },
    {
      "cell_type": "code",
      "metadata": {
        "id": "y_I46RqJ0Tt7",
        "colab_type": "code",
        "colab": {
          "base_uri": "https://localhost:8080/",
          "height": 187
        },
        "outputId": "1207b7f9-f32c-4505-fbc7-9ef29301af56"
      },
      "source": [
        "# convert dataset ids to classes\n",
        "idx_to_class = {v:k for k,v in categories.items()}\n",
        "idx_to_class"
      ],
      "execution_count": 15,
      "outputs": [
        {
          "output_type": "execute_result",
          "data": {
            "text/plain": [
              "{0: '0 - zero',\n",
              " 1: '1 - one',\n",
              " 2: '2 - two',\n",
              " 3: '3 - three',\n",
              " 4: '4 - four',\n",
              " 5: '5 - five',\n",
              " 6: '6 - six',\n",
              " 7: '7 - seven',\n",
              " 8: '8 - eight',\n",
              " 9: '9 - nine'}"
            ]
          },
          "metadata": {
            "tags": []
          },
          "execution_count": 15
        }
      ]
    },
    {
      "cell_type": "code",
      "metadata": {
        "id": "UZXHRHbbzXyU",
        "colab_type": "code",
        "colab": {}
      },
      "source": [
        "from sklearn.metrics import confusion_matrix, ConfusionMatrixDisplay, classification_report\n",
        "\n",
        "\n",
        "def plot_confusion_matrix(y_true, y_pred, labels, normalize=None, \n",
        "                          title='Confusion matrix', cmap=plt.cm.Blues, ax=None):\n",
        "    \"\"\"\n",
        "    Function to plot confusion matrix.\n",
        "    Adapted from: https://github.com/scikit-learn/scikit-learn/blob/95d4f0841/sklearn/metrics/_plot/confusion_matrix.py#L119\n",
        "    \"\"\"\n",
        "    cm = confusion_matrix(y_true, y_pred, labels=labels, normalize=normalize)\n",
        "\n",
        "    disp = ConfusionMatrixDisplay(confusion_matrix=cm,\n",
        "                                  display_labels=labels)\n",
        "    disp = disp.plot(cmap=cmap, ax=ax)\n",
        "    _ = disp.ax_.set_title(title)\n",
        "    disp.ax_.grid(False)\n",
        "    return disp.ax_\n",
        "\n",
        "\n",
        "def predict(model, test_loader):\n",
        "    \"\"\"Function to predict test data\"\"\"\n",
        "    correct, total = 0, 0\n",
        "    targets = []\n",
        "    predictions = []\n",
        "\n",
        "    with torch.no_grad():\n",
        "        model.eval()\n",
        "        for images, labels in test_loader:\n",
        "            images, labels = images.to(device), labels.to(device)\n",
        "\n",
        "            outputs = model.forward(images)\n",
        "            _, predicted = torch.max(outputs.data, 1)\n",
        "        \n",
        "            total += labels.size(0)\n",
        "            correct += (predicted ==labels).sum().item()\n",
        "            # append labels\n",
        "            targets.extend(labels.cpu().detach().numpy())\n",
        "            predictions.extend(predicted.cpu().detach().numpy())\n",
        "\n",
        "    score = correct / total\n",
        "    targets = [idx_to_class[i] for i in targets]\n",
        "    predictions = [idx_to_class[i] for i in predictions]\n",
        "    return score, targets, predictions"
      ],
      "execution_count": 0,
      "outputs": []
    },
    {
      "cell_type": "code",
      "metadata": {
        "id": "VR8oJSlq0slx",
        "colab_type": "code",
        "colab": {
          "base_uri": "https://localhost:8080/",
          "height": 51
        },
        "outputId": "30723f7e-9756-45d8-beea-5f8ba988fdd1"
      },
      "source": [
        "# make test predictions\n",
        "%%time\n",
        "score, y_true, y_pred = predict(net, test_loader)"
      ],
      "execution_count": 17,
      "outputs": [
        {
          "output_type": "stream",
          "text": [
            "CPU times: user 2.14 s, sys: 8.96 ms, total: 2.14 s\n",
            "Wall time: 2.14 s\n"
          ],
          "name": "stdout"
        }
      ]
    },
    {
      "cell_type": "code",
      "metadata": {
        "id": "kjILKLJB1AdN",
        "colab_type": "code",
        "colab": {
          "base_uri": "https://localhost:8080/",
          "height": 34
        },
        "outputId": "1d409d0f-0bba-48fb-a215-ec550855df8b"
      },
      "source": [
        "print(\"Test score: {:.2f} %\".format(100 * score))"
      ],
      "execution_count": 18,
      "outputs": [
        {
          "output_type": "stream",
          "text": [
            "Test score: 95.06 %\n"
          ],
          "name": "stdout"
        }
      ]
    },
    {
      "cell_type": "code",
      "metadata": {
        "id": "Sni-Ughu1E-X",
        "colab_type": "code",
        "colab": {
          "base_uri": "https://localhost:8080/",
          "height": 357
        },
        "outputId": "a53c35f2-f8cb-4187-9653-b6c291ccdea4"
      },
      "source": [
        "print(\"Classification report: \\n\\n{}\\n\".format(\n",
        "    classification_report(y_true, y_pred)\n",
        "))"
      ],
      "execution_count": 19,
      "outputs": [
        {
          "output_type": "stream",
          "text": [
            "Classification report: \n",
            "\n",
            "              precision    recall  f1-score   support\n",
            "\n",
            "    0 - zero       0.95      0.99      0.97       980\n",
            "     1 - one       0.97      0.99      0.98      1135\n",
            "     2 - two       0.95      0.94      0.94      1032\n",
            "   3 - three       0.92      0.95      0.94      1010\n",
            "    4 - four       0.97      0.95      0.96       982\n",
            "    5 - five       0.91      0.96      0.94       892\n",
            "     6 - six       0.96      0.96      0.96       958\n",
            "   7 - seven       0.95      0.96      0.95      1028\n",
            "   8 - eight       0.97      0.91      0.94       974\n",
            "    9 - nine       0.96      0.90      0.93      1009\n",
            "\n",
            "    accuracy                           0.95     10000\n",
            "   macro avg       0.95      0.95      0.95     10000\n",
            "weighted avg       0.95      0.95      0.95     10000\n",
            "\n",
            "\n"
          ],
          "name": "stdout"
        }
      ]
    },
    {
      "cell_type": "code",
      "metadata": {
        "id": "rpGfZkOP1PPu",
        "colab_type": "code",
        "colab": {
          "base_uri": "https://localhost:8080/",
          "height": 703
        },
        "outputId": "1e28f5de-fc12-4796-fa3e-a85d3bf653f1"
      },
      "source": [
        "labels = list(idx_to_class.values())\n",
        "# plot confusion matrix\n",
        "fig, ax = plt.subplots(figsize=(14, 12))\n",
        "_ = plot_confusion_matrix(y_true, y_pred, labels, ax=ax, title=f\"Confusion Matrix\")"
      ],
      "execution_count": 20,
      "outputs": [
        {
          "output_type": "display_data",
          "data": {
            "image/png": "[encoded data removed]",
            "text/plain": [
              "<Figure size 1008x864 with 2 Axes>"
            ]
          },
          "metadata": {
            "tags": [],
            "needs_background": "light"
          }
        }
      ]
    },
    {
      "cell_type": "code",
      "metadata": {
        "id": "ZJz2i2Ew1h2u",
        "colab_type": "code",
        "colab": {}
      },
      "source": [
        "# save model\n",
        "torch.save({\n",
        "    'state_dict': net.state_dict(),\n",
        "    'idx_to_class': idx_to_class,\n",
        "}, './mlp_mnist.pth')"
      ],
      "execution_count": 0,
      "outputs": []
    },
    {
      "cell_type": "code",
      "metadata": {
        "id": "7sjpG2DX26dS",
        "colab_type": "code",
        "colab": {
          "base_uri": "https://localhost:8080/",
          "height": 34
        },
        "outputId": "b881ce26-77a9-40eb-9a8e-eabc80de7672"
      },
      "source": [
        "!ls -lh mlp_mnist.pth"
      ],
      "execution_count": 22,
      "outputs": [
        {
          "output_type": "stream",
          "text": [
            "-rw-r--r-- 1 root root 429K Jun  7 13:01 mlp_mnist.pth\n"
          ],
          "name": "stdout"
        }
      ]
    }
  ]
}